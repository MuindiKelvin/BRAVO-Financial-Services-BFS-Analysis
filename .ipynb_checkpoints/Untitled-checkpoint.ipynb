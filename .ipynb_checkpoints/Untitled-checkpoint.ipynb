{
 "cells": [
  {
   "cell_type": "code",
   "execution_count": null,
   "id": "bf8fe271-b24b-4798-92b0-929cc7d093b3",
   "metadata": {},
   "outputs": [],
   "source": [
    "# Import necessary libraries\n",
    "import pandas as pd\n",
    "import numpy as np\n",
    "import tabula\n",
    "import matplotlib.pyplot as plt"
   ]
  },
  {
   "cell_type": "code",
   "execution_count": null,
   "id": "1ddda97a-3fa6-47e8-979e-0e5ff8f5fc84",
   "metadata": {},
   "outputs": [],
   "source": [
    "# Load data from Excel\n",
    "excel_file = 'Data/BRAVO Loans Data.xlsx'\n",
    "df_excel = pd.read_excel(excel_file)\n",
    "\n",
    "# Load data from PDF\n",
    "pdf_file = 'Data/BRAVO_Loans_Database_Table.pdf'\n",
    "df_pdf = tabula.read_pdf(pdf_file, pages='all')[0]"
   ]
  },
  {
   "cell_type": "code",
   "execution_count": null,
   "id": "61c188dd-2734-452c-9f47-5835064ffecb",
   "metadata": {},
   "outputs": [],
   "source": [
    "# Display the first few rows of the datasets\n",
    "print(\"Excel Data:\")\n",
    "print(df_excel.head())\n",
    "\n",
    "print(\"\\nPDF Data:\")\n",
    "print(df_pdf.head())"
   ]
  },
  {
   "cell_type": "code",
   "execution_count": null,
   "id": "ef3bff75-2d71-4888-a011-23b668121279",
   "metadata": {},
   "outputs": [],
   "source": [
    "# Merge the datasets if necessary (assuming there's a common column 'Loan ID')\n",
    "df_merged = pd.merge(df_excel, df_pdf, on='Loan ID', how='inner')"
   ]
  },
  {
   "cell_type": "code",
   "execution_count": null,
   "id": "014d990d-45b2-430a-8bd3-7d98e2b4af06",
   "metadata": {},
   "outputs": [],
   "source": [
    "# Perform basic descriptive analysis\n",
    "total_loans = df_merged['Loan Amount'].sum()\n",
    "average_loan_amount = df_merged['Loan Amount'].mean()\n",
    "average_loan_term = df_merged['Loan Term'].mean()\n",
    "approved_loans = df_merged[df_merged['Loan Status'] == 'Approved'].shape[0]\n",
    "rejected_loans = df_merged[df_merged['Loan Status'] == 'Rejected'].shape[0]\n",
    "approved_by_gender = df_merged[df_merged['Loan Status'] == 'Approved']['Gender'].value_counts()\n",
    "max_loan_amount = df_merged['Loan Amount'].max()\n",
    "min_loan_amount = df_merged['Loan Amount'].min()\n",
    "self_employed_approval = df_merged[(df_merged['Self Employed'] == 'Yes') & (df_merged['Loan Status'] == 'Approved')].shape[0]\n",
    "total_self_employed = df_merged[df_merged['Self Employed'] == 'Yes'].shape[0]\n",
    "self_employed_approval_percentage = (self_employed_approval / total_self_employed) * 100"
   ]
  },
  {
   "cell_type": "code",
   "execution_count": null,
   "id": "18523410-d927-4990-ad9f-cd8f5ae018a3",
   "metadata": {},
   "outputs": [],
   "source": [
    "# Display results\n",
    "print(f\"Total loan amount: ${total_loans}\")\n",
    "print(f\"Average loan amount: ${average_loan_amount:.2f}\")\n",
    "print(f\"Average loan term: {average_loan_term} months\")\n",
    "print(f\"Number of approved loans: {approved_loans}\")\n",
    "print(f\"Number of rejected loans: {rejected_loans}\")\n",
    "print(\"Approved loans by gender:\")\n",
    "print(approved_by_gender)\n",
    "print(f\"Maximum loan amount: ${max_loan_amount}\")\n",
    "print(f\"Minimum loan amount: ${min_loan_amount}\")\n",
    "print(f\"Self-employed approval percentage: {self_employed_approval_percentage:.2f}%\")"
   ]
  },
  {
   "cell_type": "code",
   "execution_count": null,
   "id": "823f7bae-34ed-4a9d-b32f-b7cd2b96eaf3",
   "metadata": {},
   "outputs": [],
   "source": [
    "# Optional: Visualizations\n",
    "# Income distribution\n",
    "plt.figure(figsize=(10, 6))\n",
    "df_merged['Applicant Income'].hist(bins=30)\n",
    "plt.title('Income Distribution')\n",
    "plt.xlabel('Income')\n",
    "plt.ylabel('Frequency')\n",
    "plt.show()"
   ]
  },
  {
   "cell_type": "code",
   "execution_count": null,
   "id": "0a1794c1-ce31-48ec-9686-7e6b48ac8f5e",
   "metadata": {},
   "outputs": [],
   "source": [
    "# Top ten loan amounts\n",
    "top_ten_loans = df_merged.nlargest(10, 'Loan Amount')[['Loan ID', 'Loan Amount']]\n",
    "print(\"Top ten loan amounts:\")\n",
    "print(top_ten_loans)\n",
    "\n",
    "# Property area distribution\n",
    "plt.figure(figsize=(10, 6))\n",
    "df_merged['Property Area'].value_counts().plot(kind='bar')\n",
    "plt.title('Property Area Distribution')\n",
    "plt.xlabel('Property Area')\n",
    "plt.ylabel('Frequency')\n",
    "plt.show()"
   ]
  }
 ],
 "metadata": {
  "kernelspec": {
   "display_name": "Python 3 (ipykernel)",
   "language": "python",
   "name": "python3"
  },
  "language_info": {
   "codemirror_mode": {
    "name": "ipython",
    "version": 3
   },
   "file_extension": ".py",
   "mimetype": "text/x-python",
   "name": "python",
   "nbconvert_exporter": "python",
   "pygments_lexer": "ipython3",
   "version": "3.12.3"
  }
 },
 "nbformat": 4,
 "nbformat_minor": 5
}
