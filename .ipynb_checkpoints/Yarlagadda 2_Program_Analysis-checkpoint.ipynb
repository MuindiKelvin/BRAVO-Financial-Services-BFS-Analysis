{
 "cells": [
  {
   "cell_type": "markdown",
   "id": "f230c711-c1a7-4d4b-a163-75bffcc21d70",
   "metadata": {},
   "source": [
    "<h1 style=\"color:blue\">MSc Management with Data Analytics</h1>"
   ]
  },
  {
   "cell_type": "markdown",
   "id": "0e7a73c2-fdf3-4673-9b79-f9822a31c7f7",
   "metadata": {},
   "source": [
    "<h1 style=\"color:blue\">Programming for Data Analysts</h1>"
   ]
  },
  {
   "cell_type": "markdown",
   "id": "018b995e-f468-4066-82ec-adbb67c1ca22",
   "metadata": {},
   "source": [
    "<h2 style=\"color:blue\">BRAVO Financial Services (BFS) Analysis</h2>"
   ]
  },
  {
   "cell_type": "markdown",
   "id": "b4440fb1-fb7d-4ce4-bece-0d9956df697d",
   "metadata": {},
   "source": [
    "<h2 style=\"color:blue\">Libraries</h2>"
   ]
  },
  {
   "cell_type": "code",
   "execution_count": 1,
   "id": "8511e724-d0e5-4681-913f-072d9f87b32b",
   "metadata": {},
   "outputs": [],
   "source": [
    "import pandas as pd\n",
    "import numpy as np\n",
    "import matplotlib.pyplot as plt\n",
    "import seaborn as sns\n",
    "import tabula"
   ]
  },
  {
   "cell_type": "markdown",
   "id": "3daccdbe-258d-477a-8ebe-1d1e7bb6aabc",
   "metadata": {},
   "source": [
    "<h2 style=\"color:blue\">Loading Project Data</h2>"
   ]
  },
  {
   "cell_type": "code",
   "execution_count": 2,
   "id": "2a2cbd65-c47c-4e2d-904d-50b03244f014",
   "metadata": {},
   "outputs": [
    {
     "data": {
      "text/html": [
       "<div>\n",
       "<style scoped>\n",
       "    .dataframe tbody tr th:only-of-type {\n",
       "        vertical-align: middle;\n",
       "    }\n",
       "\n",
       "    .dataframe tbody tr th {\n",
       "        vertical-align: top;\n",
       "    }\n",
       "\n",
       "    .dataframe thead th {\n",
       "        text-align: right;\n",
       "    }\n",
       "</style>\n",
       "<table border=\"1\" class=\"dataframe\">\n",
       "  <thead>\n",
       "    <tr style=\"text-align: right;\">\n",
       "      <th></th>\n",
       "      <th>Loan_ID</th>\n",
       "      <th>Gender</th>\n",
       "      <th>Married</th>\n",
       "      <th>Dependents</th>\n",
       "      <th>Graduate</th>\n",
       "      <th>Self_Employed</th>\n",
       "      <th>ApplicantIncome</th>\n",
       "      <th>CoapplicantIncome</th>\n",
       "      <th>LoanAmount</th>\n",
       "      <th>Loan_Amount_Term</th>\n",
       "      <th>Credit_History</th>\n",
       "      <th>Property_Area</th>\n",
       "      <th>Loan_Status</th>\n",
       "    </tr>\n",
       "  </thead>\n",
       "  <tbody>\n",
       "    <tr>\n",
       "      <th>0</th>\n",
       "      <td>2284</td>\n",
       "      <td>1</td>\n",
       "      <td>0</td>\n",
       "      <td>0</td>\n",
       "      <td>0</td>\n",
       "      <td>0</td>\n",
       "      <td>3902</td>\n",
       "      <td>1666.0</td>\n",
       "      <td>109</td>\n",
       "      <td>333</td>\n",
       "      <td>1</td>\n",
       "      <td>3</td>\n",
       "      <td>Y</td>\n",
       "    </tr>\n",
       "    <tr>\n",
       "      <th>1</th>\n",
       "      <td>2287</td>\n",
       "      <td>2</td>\n",
       "      <td>0</td>\n",
       "      <td>0</td>\n",
       "      <td>1</td>\n",
       "      <td>0</td>\n",
       "      <td>1500</td>\n",
       "      <td>1800.0</td>\n",
       "      <td>103</td>\n",
       "      <td>333</td>\n",
       "      <td>0</td>\n",
       "      <td>2</td>\n",
       "      <td>N</td>\n",
       "    </tr>\n",
       "    <tr>\n",
       "      <th>2</th>\n",
       "      <td>2288</td>\n",
       "      <td>1</td>\n",
       "      <td>1</td>\n",
       "      <td>2</td>\n",
       "      <td>0</td>\n",
       "      <td>0</td>\n",
       "      <td>2889</td>\n",
       "      <td>0.0</td>\n",
       "      <td>45</td>\n",
       "      <td>180</td>\n",
       "      <td>0</td>\n",
       "      <td>1</td>\n",
       "      <td>N</td>\n",
       "    </tr>\n",
       "    <tr>\n",
       "      <th>3</th>\n",
       "      <td>2296</td>\n",
       "      <td>1</td>\n",
       "      <td>0</td>\n",
       "      <td>0</td>\n",
       "      <td>0</td>\n",
       "      <td>0</td>\n",
       "      <td>2755</td>\n",
       "      <td>0.0</td>\n",
       "      <td>65</td>\n",
       "      <td>300</td>\n",
       "      <td>1</td>\n",
       "      <td>3</td>\n",
       "      <td>N</td>\n",
       "    </tr>\n",
       "    <tr>\n",
       "      <th>4</th>\n",
       "      <td>2297</td>\n",
       "      <td>1</td>\n",
       "      <td>0</td>\n",
       "      <td>0</td>\n",
       "      <td>1</td>\n",
       "      <td>0</td>\n",
       "      <td>2500</td>\n",
       "      <td>20000.0</td>\n",
       "      <td>103</td>\n",
       "      <td>333</td>\n",
       "      <td>1</td>\n",
       "      <td>2</td>\n",
       "      <td>Y</td>\n",
       "    </tr>\n",
       "  </tbody>\n",
       "</table>\n",
       "</div>"
      ],
      "text/plain": [
       "   Loan_ID  Gender  Married  Dependents  Graduate  Self_Employed  \\\n",
       "0     2284       1        0           0         0              0   \n",
       "1     2287       2        0           0         1              0   \n",
       "2     2288       1        1           2         0              0   \n",
       "3     2296       1        0           0         0              0   \n",
       "4     2297       1        0           0         1              0   \n",
       "\n",
       "   ApplicantIncome  CoapplicantIncome  LoanAmount  Loan_Amount_Term  \\\n",
       "0             3902             1666.0         109               333   \n",
       "1             1500             1800.0         103               333   \n",
       "2             2889                0.0          45               180   \n",
       "3             2755                0.0          65               300   \n",
       "4             2500            20000.0         103               333   \n",
       "\n",
       "   Credit_History  Property_Area Loan_Status  \n",
       "0               1              3           Y  \n",
       "1               0              2           N  \n",
       "2               0              1           N  \n",
       "3               1              3           N  \n",
       "4               1              2           Y  "
      ]
     },
     "execution_count": 2,
     "metadata": {},
     "output_type": "execute_result"
    }
   ],
   "source": [
    "# Loading the Excel data\n",
    "excel_data = pd.read_excel('Data/BRAVO Loan Data (1).xlsx')\n",
    "excel_data.head()"
   ]
  },
  {
   "cell_type": "code",
   "execution_count": 3,
   "id": "b0d6492c-6103-4890-8611-85d672f2351f",
   "metadata": {},
   "outputs": [
    {
     "data": {
      "text/html": [
       "<div>\n",
       "<style scoped>\n",
       "    .dataframe tbody tr th:only-of-type {\n",
       "        vertical-align: middle;\n",
       "    }\n",
       "\n",
       "    .dataframe tbody tr th {\n",
       "        vertical-align: top;\n",
       "    }\n",
       "\n",
       "    .dataframe thead th {\n",
       "        text-align: right;\n",
       "    }\n",
       "</style>\n",
       "<table border=\"1\" class=\"dataframe\">\n",
       "  <thead>\n",
       "    <tr style=\"text-align: right;\">\n",
       "      <th></th>\n",
       "      <th>Loan_ID</th>\n",
       "      <th>Gender</th>\n",
       "      <th>Married</th>\n",
       "      <th>Dependents</th>\n",
       "      <th>Graduate</th>\n",
       "      <th>Self_Employed</th>\n",
       "      <th>ApplicantIncome</th>\n",
       "      <th>CoapplicantIncome</th>\n",
       "      <th>LoanAmount</th>\n",
       "      <th>Loan_Amount_Term</th>\n",
       "      <th>Credit_History</th>\n",
       "      <th>Property_Area</th>\n",
       "      <th>Loan_Status</th>\n",
       "    </tr>\n",
       "  </thead>\n",
       "  <tbody>\n",
       "    <tr>\n",
       "      <th>0</th>\n",
       "      <td>1002</td>\n",
       "      <td>1</td>\n",
       "      <td>0</td>\n",
       "      <td>0</td>\n",
       "      <td>1</td>\n",
       "      <td>0</td>\n",
       "      <td>5849</td>\n",
       "      <td>0</td>\n",
       "      <td>128</td>\n",
       "      <td>360</td>\n",
       "      <td>1</td>\n",
       "      <td>1</td>\n",
       "      <td>Y</td>\n",
       "    </tr>\n",
       "    <tr>\n",
       "      <th>1</th>\n",
       "      <td>1003</td>\n",
       "      <td>1</td>\n",
       "      <td>1</td>\n",
       "      <td>1</td>\n",
       "      <td>1</td>\n",
       "      <td>0</td>\n",
       "      <td>4583</td>\n",
       "      <td>1508</td>\n",
       "      <td>128</td>\n",
       "      <td>360</td>\n",
       "      <td>1</td>\n",
       "      <td>3</td>\n",
       "      <td>N</td>\n",
       "    </tr>\n",
       "    <tr>\n",
       "      <th>2</th>\n",
       "      <td>1005</td>\n",
       "      <td>1</td>\n",
       "      <td>1</td>\n",
       "      <td>0</td>\n",
       "      <td>1</td>\n",
       "      <td>1</td>\n",
       "      <td>3000</td>\n",
       "      <td>0</td>\n",
       "      <td>66</td>\n",
       "      <td>360</td>\n",
       "      <td>1</td>\n",
       "      <td>1</td>\n",
       "      <td>Y</td>\n",
       "    </tr>\n",
       "    <tr>\n",
       "      <th>3</th>\n",
       "      <td>1006</td>\n",
       "      <td>1</td>\n",
       "      <td>1</td>\n",
       "      <td>0</td>\n",
       "      <td>0</td>\n",
       "      <td>0</td>\n",
       "      <td>2583</td>\n",
       "      <td>2358</td>\n",
       "      <td>120</td>\n",
       "      <td>360</td>\n",
       "      <td>1</td>\n",
       "      <td>1</td>\n",
       "      <td>Y</td>\n",
       "    </tr>\n",
       "    <tr>\n",
       "      <th>4</th>\n",
       "      <td>1008</td>\n",
       "      <td>1</td>\n",
       "      <td>0</td>\n",
       "      <td>0</td>\n",
       "      <td>1</td>\n",
       "      <td>0</td>\n",
       "      <td>6000</td>\n",
       "      <td>0</td>\n",
       "      <td>141</td>\n",
       "      <td>360</td>\n",
       "      <td>1</td>\n",
       "      <td>1</td>\n",
       "      <td>Y</td>\n",
       "    </tr>\n",
       "  </tbody>\n",
       "</table>\n",
       "</div>"
      ],
      "text/plain": [
       "   Loan_ID  Gender  Married  Dependents  Graduate  Self_Employed  \\\n",
       "0     1002       1        0           0         1              0   \n",
       "1     1003       1        1           1         1              0   \n",
       "2     1005       1        1           0         1              1   \n",
       "3     1006       1        1           0         0              0   \n",
       "4     1008       1        0           0         1              0   \n",
       "\n",
       "   ApplicantIncome  CoapplicantIncome  LoanAmount  Loan_Amount_Term  \\\n",
       "0             5849                  0         128               360   \n",
       "1             4583               1508         128               360   \n",
       "2             3000                  0          66               360   \n",
       "3             2583               2358         120               360   \n",
       "4             6000                  0         141               360   \n",
       "\n",
       "   Credit_History  Property_Area Loan_Status  \n",
       "0               1              1           Y  \n",
       "1               1              3           N  \n",
       "2               1              1           Y  \n",
       "3               1              1           Y  \n",
       "4               1              1           Y  "
      ]
     },
     "execution_count": 3,
     "metadata": {},
     "output_type": "execute_result"
    }
   ],
   "source": [
    "# Loading the PDF data\n",
    "pdf_data ='Data/BRAVO_Loans_Database_Table.pdf'\n",
    "df_pdf = tabula.read_pdf(pdf_data, pages='all')[0]\n",
    "df_pdf.head()"
   ]
  },
  {
   "cell_type": "markdown",
   "id": "856923da-a7d0-4043-9882-e4a969a0e3bd",
   "metadata": {},
   "source": [
    "<h2 style=\"color:blue\">Data Merging</h2>"
   ]
  },
  {
   "cell_type": "code",
   "execution_count": 4,
   "id": "23402e68-ac8d-4e4f-8c1c-532a77c03788",
   "metadata": {},
   "outputs": [
    {
     "name": "stdout",
     "output_type": "stream",
     "text": [
      "Loan_ID                int64\n",
      "Gender                 int64\n",
      "Married                int64\n",
      "Dependents             int64\n",
      "Graduate               int64\n",
      "Self_Employed          int64\n",
      "ApplicantIncome        int64\n",
      "CoapplicantIncome    float64\n",
      "LoanAmount             int64\n",
      "Loan_Amount_Term       int64\n",
      "Credit_History         int64\n",
      "Property_Area          int64\n",
      "Loan_Status           object\n",
      "dtype: object\n"
     ]
    }
   ],
   "source": [
    "# Combining the two datasets\n",
    "combined_data = pd.concat([excel_data, df_pdf], ignore_index=True)\n",
    "\n",
    "# Check the data types\n",
    "print(combined_data.dtypes)"
   ]
  },
  {
   "cell_type": "code",
   "execution_count": 5,
   "id": "fbc92b1e-8d36-40ff-9224-3c5ef1d9f575",
   "metadata": {},
   "outputs": [
    {
     "data": {
      "text/html": [
       "<div>\n",
       "<style scoped>\n",
       "    .dataframe tbody tr th:only-of-type {\n",
       "        vertical-align: middle;\n",
       "    }\n",
       "\n",
       "    .dataframe tbody tr th {\n",
       "        vertical-align: top;\n",
       "    }\n",
       "\n",
       "    .dataframe thead th {\n",
       "        text-align: right;\n",
       "    }\n",
       "</style>\n",
       "<table border=\"1\" class=\"dataframe\">\n",
       "  <thead>\n",
       "    <tr style=\"text-align: right;\">\n",
       "      <th></th>\n",
       "      <th>Loan_ID</th>\n",
       "      <th>Gender</th>\n",
       "      <th>Married</th>\n",
       "      <th>Dependents</th>\n",
       "      <th>Graduate</th>\n",
       "      <th>Self_Employed</th>\n",
       "      <th>ApplicantIncome</th>\n",
       "      <th>CoapplicantIncome</th>\n",
       "      <th>LoanAmount</th>\n",
       "      <th>Loan_Amount_Term</th>\n",
       "      <th>Credit_History</th>\n",
       "      <th>Property_Area</th>\n",
       "      <th>Loan_Status</th>\n",
       "    </tr>\n",
       "  </thead>\n",
       "  <tbody>\n",
       "    <tr>\n",
       "      <th>0</th>\n",
       "      <td>2284</td>\n",
       "      <td>1</td>\n",
       "      <td>0</td>\n",
       "      <td>0</td>\n",
       "      <td>0</td>\n",
       "      <td>0</td>\n",
       "      <td>3902</td>\n",
       "      <td>1666.0</td>\n",
       "      <td>109</td>\n",
       "      <td>333</td>\n",
       "      <td>1</td>\n",
       "      <td>3</td>\n",
       "      <td>Y</td>\n",
       "    </tr>\n",
       "    <tr>\n",
       "      <th>1</th>\n",
       "      <td>2287</td>\n",
       "      <td>2</td>\n",
       "      <td>0</td>\n",
       "      <td>0</td>\n",
       "      <td>1</td>\n",
       "      <td>0</td>\n",
       "      <td>1500</td>\n",
       "      <td>1800.0</td>\n",
       "      <td>103</td>\n",
       "      <td>333</td>\n",
       "      <td>0</td>\n",
       "      <td>2</td>\n",
       "      <td>N</td>\n",
       "    </tr>\n",
       "    <tr>\n",
       "      <th>2</th>\n",
       "      <td>2288</td>\n",
       "      <td>1</td>\n",
       "      <td>1</td>\n",
       "      <td>2</td>\n",
       "      <td>0</td>\n",
       "      <td>0</td>\n",
       "      <td>2889</td>\n",
       "      <td>0.0</td>\n",
       "      <td>45</td>\n",
       "      <td>180</td>\n",
       "      <td>0</td>\n",
       "      <td>1</td>\n",
       "      <td>N</td>\n",
       "    </tr>\n",
       "    <tr>\n",
       "      <th>3</th>\n",
       "      <td>2296</td>\n",
       "      <td>1</td>\n",
       "      <td>0</td>\n",
       "      <td>0</td>\n",
       "      <td>0</td>\n",
       "      <td>0</td>\n",
       "      <td>2755</td>\n",
       "      <td>0.0</td>\n",
       "      <td>65</td>\n",
       "      <td>300</td>\n",
       "      <td>1</td>\n",
       "      <td>3</td>\n",
       "      <td>N</td>\n",
       "    </tr>\n",
       "    <tr>\n",
       "      <th>4</th>\n",
       "      <td>2297</td>\n",
       "      <td>1</td>\n",
       "      <td>0</td>\n",
       "      <td>0</td>\n",
       "      <td>1</td>\n",
       "      <td>0</td>\n",
       "      <td>2500</td>\n",
       "      <td>20000.0</td>\n",
       "      <td>103</td>\n",
       "      <td>333</td>\n",
       "      <td>1</td>\n",
       "      <td>2</td>\n",
       "      <td>Y</td>\n",
       "    </tr>\n",
       "  </tbody>\n",
       "</table>\n",
       "</div>"
      ],
      "text/plain": [
       "   Loan_ID  Gender  Married  Dependents  Graduate  Self_Employed  \\\n",
       "0     2284       1        0           0         0              0   \n",
       "1     2287       2        0           0         1              0   \n",
       "2     2288       1        1           2         0              0   \n",
       "3     2296       1        0           0         0              0   \n",
       "4     2297       1        0           0         1              0   \n",
       "\n",
       "   ApplicantIncome  CoapplicantIncome  LoanAmount  Loan_Amount_Term  \\\n",
       "0             3902             1666.0         109               333   \n",
       "1             1500             1800.0         103               333   \n",
       "2             2889                0.0          45               180   \n",
       "3             2755                0.0          65               300   \n",
       "4             2500            20000.0         103               333   \n",
       "\n",
       "   Credit_History  Property_Area Loan_Status  \n",
       "0               1              3           Y  \n",
       "1               0              2           N  \n",
       "2               0              1           N  \n",
       "3               1              3           N  \n",
       "4               1              2           Y  "
      ]
     },
     "execution_count": 5,
     "metadata": {},
     "output_type": "execute_result"
    }
   ],
   "source": [
    "combined_data.head()"
   ]
  },
  {
   "cell_type": "code",
   "execution_count": 6,
   "id": "0740d53f-fd8d-4112-9e8f-70226fc6d167",
   "metadata": {},
   "outputs": [
    {
     "data": {
      "text/plain": [
       "(275, 13)"
      ]
     },
     "execution_count": 6,
     "metadata": {},
     "output_type": "execute_result"
    }
   ],
   "source": [
    "combined_data.shape"
   ]
  },
  {
   "cell_type": "code",
   "execution_count": 7,
   "id": "60c8b8f7-a02d-4c1b-995c-9533a2e757d0",
   "metadata": {},
   "outputs": [
    {
     "data": {
      "text/html": [
       "<div>\n",
       "<style scoped>\n",
       "    .dataframe tbody tr th:only-of-type {\n",
       "        vertical-align: middle;\n",
       "    }\n",
       "\n",
       "    .dataframe tbody tr th {\n",
       "        vertical-align: top;\n",
       "    }\n",
       "\n",
       "    .dataframe thead th {\n",
       "        text-align: right;\n",
       "    }\n",
       "</style>\n",
       "<table border=\"1\" class=\"dataframe\">\n",
       "  <thead>\n",
       "    <tr style=\"text-align: right;\">\n",
       "      <th></th>\n",
       "      <th>Loan_ID</th>\n",
       "      <th>Gender</th>\n",
       "      <th>Married</th>\n",
       "      <th>Dependents</th>\n",
       "      <th>Graduate</th>\n",
       "      <th>Self_Employed</th>\n",
       "      <th>ApplicantIncome</th>\n",
       "      <th>CoapplicantIncome</th>\n",
       "      <th>LoanAmount</th>\n",
       "      <th>Loan_Amount_Term</th>\n",
       "      <th>Credit_History</th>\n",
       "      <th>Property_Area</th>\n",
       "    </tr>\n",
       "  </thead>\n",
       "  <tbody>\n",
       "    <tr>\n",
       "      <th>count</th>\n",
       "      <td>275.000000</td>\n",
       "      <td>275.000000</td>\n",
       "      <td>275.000000</td>\n",
       "      <td>275.00000</td>\n",
       "      <td>275.000000</td>\n",
       "      <td>275.000000</td>\n",
       "      <td>275.000000</td>\n",
       "      <td>275.000000</td>\n",
       "      <td>275.000000</td>\n",
       "      <td>275.000000</td>\n",
       "      <td>275.000000</td>\n",
       "      <td>275.000000</td>\n",
       "    </tr>\n",
       "    <tr>\n",
       "      <th>mean</th>\n",
       "      <td>2390.080000</td>\n",
       "      <td>1.181818</td>\n",
       "      <td>0.658182</td>\n",
       "      <td>0.76000</td>\n",
       "      <td>0.741818</td>\n",
       "      <td>0.138182</td>\n",
       "      <td>5293.487273</td>\n",
       "      <td>1808.065164</td>\n",
       "      <td>151.269091</td>\n",
       "      <td>322.800000</td>\n",
       "      <td>0.752727</td>\n",
       "      <td>2.007273</td>\n",
       "    </tr>\n",
       "    <tr>\n",
       "      <th>std</th>\n",
       "      <td>540.631512</td>\n",
       "      <td>0.386398</td>\n",
       "      <td>0.475184</td>\n",
       "      <td>0.98559</td>\n",
       "      <td>0.438432</td>\n",
       "      <td>0.345720</td>\n",
       "      <td>6202.606163</td>\n",
       "      <td>3870.779628</td>\n",
       "      <td>87.834576</td>\n",
       "      <td>59.570911</td>\n",
       "      <td>0.432213</td>\n",
       "      <td>0.796858</td>\n",
       "    </tr>\n",
       "    <tr>\n",
       "      <th>min</th>\n",
       "      <td>1002.000000</td>\n",
       "      <td>1.000000</td>\n",
       "      <td>0.000000</td>\n",
       "      <td>0.00000</td>\n",
       "      <td>0.000000</td>\n",
       "      <td>0.000000</td>\n",
       "      <td>210.000000</td>\n",
       "      <td>0.000000</td>\n",
       "      <td>9.000000</td>\n",
       "      <td>12.000000</td>\n",
       "      <td>0.000000</td>\n",
       "      <td>1.000000</td>\n",
       "    </tr>\n",
       "    <tr>\n",
       "      <th>25%</th>\n",
       "      <td>2314.500000</td>\n",
       "      <td>1.000000</td>\n",
       "      <td>0.000000</td>\n",
       "      <td>0.00000</td>\n",
       "      <td>0.000000</td>\n",
       "      <td>0.000000</td>\n",
       "      <td>2752.500000</td>\n",
       "      <td>0.000000</td>\n",
       "      <td>100.000000</td>\n",
       "      <td>333.000000</td>\n",
       "      <td>1.000000</td>\n",
       "      <td>1.000000</td>\n",
       "    </tr>\n",
       "    <tr>\n",
       "      <th>50%</th>\n",
       "      <td>2529.000000</td>\n",
       "      <td>1.000000</td>\n",
       "      <td>1.000000</td>\n",
       "      <td>0.00000</td>\n",
       "      <td>1.000000</td>\n",
       "      <td>0.000000</td>\n",
       "      <td>3676.000000</td>\n",
       "      <td>1287.000000</td>\n",
       "      <td>128.000000</td>\n",
       "      <td>333.000000</td>\n",
       "      <td>1.000000</td>\n",
       "      <td>2.000000</td>\n",
       "    </tr>\n",
       "    <tr>\n",
       "      <th>75%</th>\n",
       "      <td>2762.000000</td>\n",
       "      <td>1.000000</td>\n",
       "      <td>1.000000</td>\n",
       "      <td>2.00000</td>\n",
       "      <td>1.000000</td>\n",
       "      <td>0.000000</td>\n",
       "      <td>5807.500000</td>\n",
       "      <td>2319.500000</td>\n",
       "      <td>173.000000</td>\n",
       "      <td>333.000000</td>\n",
       "      <td>1.000000</td>\n",
       "      <td>3.000000</td>\n",
       "    </tr>\n",
       "    <tr>\n",
       "      <th>max</th>\n",
       "      <td>2990.000000</td>\n",
       "      <td>2.000000</td>\n",
       "      <td>1.000000</td>\n",
       "      <td>3.00000</td>\n",
       "      <td>1.000000</td>\n",
       "      <td>1.000000</td>\n",
       "      <td>81000.000000</td>\n",
       "      <td>41667.000000</td>\n",
       "      <td>600.000000</td>\n",
       "      <td>480.000000</td>\n",
       "      <td>1.000000</td>\n",
       "      <td>3.000000</td>\n",
       "    </tr>\n",
       "  </tbody>\n",
       "</table>\n",
       "</div>"
      ],
      "text/plain": [
       "           Loan_ID      Gender     Married  Dependents    Graduate  \\\n",
       "count   275.000000  275.000000  275.000000   275.00000  275.000000   \n",
       "mean   2390.080000    1.181818    0.658182     0.76000    0.741818   \n",
       "std     540.631512    0.386398    0.475184     0.98559    0.438432   \n",
       "min    1002.000000    1.000000    0.000000     0.00000    0.000000   \n",
       "25%    2314.500000    1.000000    0.000000     0.00000    0.000000   \n",
       "50%    2529.000000    1.000000    1.000000     0.00000    1.000000   \n",
       "75%    2762.000000    1.000000    1.000000     2.00000    1.000000   \n",
       "max    2990.000000    2.000000    1.000000     3.00000    1.000000   \n",
       "\n",
       "       Self_Employed  ApplicantIncome  CoapplicantIncome  LoanAmount  \\\n",
       "count     275.000000       275.000000         275.000000  275.000000   \n",
       "mean        0.138182      5293.487273        1808.065164  151.269091   \n",
       "std         0.345720      6202.606163        3870.779628   87.834576   \n",
       "min         0.000000       210.000000           0.000000    9.000000   \n",
       "25%         0.000000      2752.500000           0.000000  100.000000   \n",
       "50%         0.000000      3676.000000        1287.000000  128.000000   \n",
       "75%         0.000000      5807.500000        2319.500000  173.000000   \n",
       "max         1.000000     81000.000000       41667.000000  600.000000   \n",
       "\n",
       "       Loan_Amount_Term  Credit_History  Property_Area  \n",
       "count        275.000000      275.000000     275.000000  \n",
       "mean         322.800000        0.752727       2.007273  \n",
       "std           59.570911        0.432213       0.796858  \n",
       "min           12.000000        0.000000       1.000000  \n",
       "25%          333.000000        1.000000       1.000000  \n",
       "50%          333.000000        1.000000       2.000000  \n",
       "75%          333.000000        1.000000       3.000000  \n",
       "max          480.000000        1.000000       3.000000  "
      ]
     },
     "execution_count": 7,
     "metadata": {},
     "output_type": "execute_result"
    }
   ],
   "source": [
    "combined_data.describe()"
   ]
  },
  {
   "cell_type": "code",
   "execution_count": 8,
   "id": "11fc81e6-690c-4020-9137-c88311e75bb2",
   "metadata": {},
   "outputs": [],
   "source": [
    "# Handling the data types\n",
    "combined_data['Gender'] = combined_data['Gender'].astype(int)\n",
    "combined_data['Married'] = combined_data['Married'].astype(int)\n",
    "combined_data['Dependents'] = combined_data['Dependents'].astype(int)\n",
    "combined_data['Graduate'] = combined_data['Graduate'].astype(int)\n",
    "combined_data['Self_Employed'] = combined_data['Self_Employed'].astype(int)\n",
    "combined_data['ApplicantIncome'] = combined_data['ApplicantIncome'].astype(int)\n",
    "combined_data['CoapplicantIncome'] = combined_data['CoapplicantIncome'].astype(float)\n",
    "combined_data['LoanAmount'] = combined_data['LoanAmount'].astype(int)\n",
    "combined_data['Loan_Amount_Term'] = combined_data['Loan_Amount_Term'].astype(int)\n",
    "combined_data['Credit_History'] = combined_data['Credit_History'].astype(int)\n",
    "combined_data['Property_Area'] = combined_data['Property_Area'].astype(int)"
   ]
  },
  {
   "cell_type": "code",
   "execution_count": 9,
   "id": "d4666968-d012-4e1b-bf45-96b12eab2839",
   "metadata": {},
   "outputs": [
    {
     "name": "stdout",
     "output_type": "stream",
     "text": [
      "Number of duplicates: 0\n"
     ]
    }
   ],
   "source": [
    "# Checking for duplicates\n",
    "print(f\"Number of duplicates: {combined_data.duplicated().sum()}\")\n",
    "\n",
    "# Handling missing values\n",
    "combined_data = combined_data.fillna(0)"
   ]
  },
  {
   "cell_type": "markdown",
   "id": "7f4f390f-57f0-47f2-b70c-ffd90f6ee9cb",
   "metadata": {},
   "source": [
    "<h2 style=\"color:blue\">Exploratory Data Analysis (EDA)</h2>"
   ]
  },
  {
   "cell_type": "code",
   "execution_count": 10,
   "id": "df52f964-2800-4e21-9b20-919bc303acfe",
   "metadata": {},
   "outputs": [
    {
     "name": "stdout",
     "output_type": "stream",
     "text": [
      "Total amount loaned: 41599\n",
      "Average amount loaned: 151.26909090909092\n",
      "Average loan term: 322.8\n"
     ]
    }
   ],
   "source": [
    "print(f\"Total amount loaned: {combined_data['LoanAmount'].sum()}\")\n",
    "print(f\"Average amount loaned: {combined_data['LoanAmount'].mean()}\")\n",
    "print(f\"Average loan term: {combined_data['Loan_Amount_Term'].mean()}\")"
   ]
  },
  {
   "cell_type": "code",
   "execution_count": 11,
   "id": "4904bd2e-d5c6-4f48-90e7-3dc27de8d973",
   "metadata": {},
   "outputs": [
    {
     "name": "stdout",
     "output_type": "stream",
     "text": [
      "Breakdown of approved and rejected loans:\n",
      "Loan_Status\n",
      "N     90\n",
      "Y    185\n",
      "Name: Loan_ID, dtype: int64\n"
     ]
    }
   ],
   "source": [
    "print(\"Breakdown of approved and rejected loans:\")\n",
    "print(combined_data.groupby('Loan_Status')['Loan_ID'].count())"
   ]
  },
  {
   "cell_type": "code",
   "execution_count": 12,
   "id": "426b3cc1-ca88-4990-9cda-cdd95e3a0ca1",
   "metadata": {},
   "outputs": [
    {
     "name": "stdout",
     "output_type": "stream",
     "text": [
      "Breakdown of gender for approved and rejected loans:\n",
      "Loan_Status  Gender\n",
      "N            1          73\n",
      "             2          17\n",
      "Y            1         152\n",
      "             2          33\n",
      "Name: Loan_ID, dtype: int64\n"
     ]
    }
   ],
   "source": [
    "print(\"Breakdown of gender for approved and rejected loans:\")\n",
    "print(combined_data.groupby(['Loan_Status', 'Gender'])['Loan_ID'].count())"
   ]
  },
  {
   "cell_type": "code",
   "execution_count": 13,
   "id": "732fb499-0c90-445a-bb1e-c5cbf8256b46",
   "metadata": {},
   "outputs": [
    {
     "data": {
      "text/plain": [
       "<Figure size 800x600 with 0 Axes>"
      ]
     },
     "metadata": {},
     "output_type": "display_data"
    },
    {
     "data": {
      "image/png": "[encoded data removed]",
      "text/plain": [
       "<Figure size 640x480 with 1 Axes>"
      ]
     },
     "metadata": {},
     "output_type": "display_data"
    }
   ],
   "source": [
    "# Creating visualization for the breakdown of approved and rejected loans by gender\n",
    "plt.figure(figsize=(8, 6))\n",
    "combined_data.groupby(['Loan_Status', 'Gender'])['Loan_ID'].count().unstack().plot(kind='bar')\n",
    "plt.xlabel('Loan Status')\n",
    "plt.ylabel('Number of Loans')\n",
    "plt.title('Loan Approval by Gender')\n",
    "plt.show()"
   ]
  },
  {
   "cell_type": "code",
   "execution_count": 14,
   "id": "e5374c1d-1e27-4b57-ab47-f978e0f83a02",
   "metadata": {},
   "outputs": [
    {
     "name": "stdout",
     "output_type": "stream",
     "text": [
      "Maximum loan amount: 600\n",
      "Minimum loan amount: 9\n"
     ]
    }
   ],
   "source": [
    "# Calculating the Maximum and minimum of loan amounts\n",
    "print(f\"Maximum loan amount: {combined_data['LoanAmount'].max()}\")\n",
    "print(f\"Minimum loan amount: {combined_data['LoanAmount'].min()}\")"
   ]
  },
  {
   "cell_type": "code",
   "execution_count": 15,
   "id": "814e3970-4e16-4e8b-b10a-693c3b5edb4f",
   "metadata": {},
   "outputs": [
    {
     "data": {
      "image/png": "[encoded data removed]",
      "text/plain": [
       "<Figure size 800x600 with 1 Axes>"
      ]
     },
     "metadata": {},
     "output_type": "display_data"
    }
   ],
   "source": [
    "# Creating visualization for the distribution of loan amounts\n",
    "plt.figure(figsize=(8, 6))\n",
    "combined_data['LoanAmount'].hist(bins=20)\n",
    "plt.xlabel('Loan Amount')\n",
    "plt.ylabel('Frequency')\n",
    "plt.title('Distribution of Loan Amounts')\n",
    "plt.show()"
   ]
  },
  {
   "cell_type": "code",
   "execution_count": 16,
   "id": "db4684b2-d266-4d6a-8fc0-57d7e48dd503",
   "metadata": {},
   "outputs": [
    {
     "name": "stdout",
     "output_type": "stream",
     "text": [
      "Percentage of self-employed applicants who had their loan approved: 14.05%\n"
     ]
    }
   ],
   "source": [
    "# Calculating the percentage of self-employed applicants who had their loan approved\n",
    "self_employed_approved = combined_data[(combined_data['Loan_Status'] == 'Y') & (combined_data['Self_Employed'] == 1)].shape[0]\n",
    "total_approved = combined_data[combined_data['Loan_Status'] == 'Y'].shape[0]\n",
    "self_employed_approval_percentage = (self_employed_approved / total_approved) * 100\n",
    "print(f\"Percentage of self-employed applicants who had their loan approved: {self_employed_approval_percentage:.2f}%\")"
   ]
  },
  {
   "cell_type": "code",
   "execution_count": 17,
   "id": "cfe19d92-1b83-4a7e-b778-c36c869d559f",
   "metadata": {},
   "outputs": [
    {
     "data": {
      "image/png": "[encoded data removed]",
      "text/plain": [
       "<Figure size 800x600 with 1 Axes>"
      ]
     },
     "metadata": {},
     "output_type": "display_data"
    }
   ],
   "source": [
    "# Visualizing the percentage of self-employed applicants who had their loan approved\n",
    "plt.figure(figsize=(8, 6))\n",
    "plt.pie([self_employed_approved, total_approved - self_employed_approved], labels=['Self-employed Approved', 'Others Approved'], autopct='%1.1f%%')\n",
    "plt.title('Loan Approval by Self-Employment Status')\n",
    "plt.show()"
   ]
  },
  {
   "cell_type": "code",
   "execution_count": 18,
   "id": "73ce082d-95e5-4a56-89f1-c89470983d9a",
   "metadata": {},
   "outputs": [
    {
     "name": "stdout",
     "output_type": "stream",
     "text": [
      "Average applicant income: 5293.487272727272\n",
      "Standard deviation of applicant income: 6202.606163078023\n"
     ]
    },
    {
     "data": {
      "image/png": "[encoded data removed]",
      "text/plain": [
       "<Figure size 800x600 with 1 Axes>"
      ]
     },
     "metadata": {},
     "output_type": "display_data"
    }
   ],
   "source": [
    "# Income distribution of all main applicants\n",
    "print(f\"Average applicant income: {combined_data['ApplicantIncome'].mean()}\")\n",
    "print(f\"Standard deviation of applicant income: {combined_data['ApplicantIncome'].std()}\")\n",
    "\n",
    "plt.figure(figsize=(8, 6))\n",
    "combined_data['ApplicantIncome'].hist(bins=20)\n",
    "plt.xlabel('Applicant Income')\n",
    "plt.ylabel('Frequency')\n",
    "plt.title('Distribution of Applicant Income')\n",
    "plt.show()"
   ]
  },
  {
   "cell_type": "code",
   "execution_count": 19,
   "id": "2c0bee2f-71e9-4568-8271-2aed0504c0ad",
   "metadata": {},
   "outputs": [
    {
     "name": "stdout",
     "output_type": "stream",
     "text": [
      "Top 10 applicants by loan amount:\n",
      "     Loan_ID  Gender  Married  Dependents  Graduate  Self_Employed  \\\n",
      "194     2813       2        1           1         1              1   \n",
      "120     2547       1        1           1         1              0   \n",
      "237     2959       2        1           1         1              0   \n",
      "139     2624       1        1           0         1              0   \n",
      "156     2693       1        1           2         1              1   \n",
      "14      1907       1        1           0         1              0   \n",
      "65      2386       1        0           0         1              0   \n",
      "158     2699       1        1           2         1              1   \n",
      "42      2317       1        1           3         1              0   \n",
      "233     2949       2        0           3         1              0   \n",
      "\n",
      "     ApplicantIncome  CoapplicantIncome  LoanAmount  Loan_Amount_Term  \\\n",
      "194            19484                0.0         600               333   \n",
      "120            18333                0.0         500               333   \n",
      "237            12000                0.0         496               333   \n",
      "139            20833             6667.0         480               333   \n",
      "156             7948             7166.0         480               333   \n",
      "14             14583                0.0         436               333   \n",
      "65             12876                0.0         405               333   \n",
      "158            17500                0.0         400               333   \n",
      "42             81000                0.0         360               333   \n",
      "233              416            41667.0         350               180   \n",
      "\n",
      "     Credit_History  Property_Area Loan_Status  \n",
      "194               1              2           Y  \n",
      "120               1              1           N  \n",
      "237               1              2           Y  \n",
      "139               0              1           Y  \n",
      "156               1              3           Y  \n",
      "14                1              2           Y  \n",
      "65                1              2           Y  \n",
      "158               1              3           Y  \n",
      "42                0              3           N  \n",
      "233               0              1           N  \n"
     ]
    }
   ],
   "source": [
    "# Top 10 applicants by loan amount\n",
    "top_10_applicants = combined_data.nlargest(10, 'LoanAmount')\n",
    "print(\"Top 10 applicants by loan amount:\")\n",
    "print(top_10_applicants)"
   ]
  },
  {
   "cell_type": "code",
   "execution_count": 20,
   "id": "f6f9634e-a23a-4470-acbe-e91328a2d35c",
   "metadata": {},
   "outputs": [
    {
     "name": "stdout",
     "output_type": "stream",
     "text": [
      "Distribution of properties:\n",
      "Property_Area\n",
      "1     86\n",
      "2    101\n",
      "3     88\n",
      "Name: Loan_ID, dtype: int64\n"
     ]
    }
   ],
   "source": [
    "# Distribution of properties\n",
    "property_distribution = combined_data.groupby('Property_Area')['Loan_ID'].count()\n",
    "print(\"Distribution of properties:\")\n",
    "print(property_distribution)"
   ]
  },
  {
   "cell_type": "code",
   "execution_count": 21,
   "id": "b87fa862-8b36-467f-98ef-2b80c26a8871",
   "metadata": {},
   "outputs": [
    {
     "data": {
      "image/png": "[encoded data removed]",
      "text/plain": [
       "<Figure size 800x600 with 1 Axes>"
      ]
     },
     "metadata": {},
     "output_type": "display_data"
    }
   ],
   "source": [
    "import matplotlib.pyplot as plt\n",
    "\n",
    "plt.figure(figsize=(8, 6))\n",
    "\n",
    "# Define a list of colors\n",
    "colors = ['#1f77b4', '#ff7f0e', '#2ca02c', '#d62728', '#9467bd', '#8c564b', '#e377c2', '#7f7f7f', '#bcbd22', '#17becf']\n",
    "\n",
    "property_distribution.plot(kind='bar', color=colors)\n",
    "\n",
    "plt.xlabel('Property Area')\n",
    "plt.ylabel('Number of Loans')\n",
    "plt.title('Distribution of Properties')\n",
    "\n",
    "plt.show()"
   ]
  },
  {
   "cell_type": "markdown",
   "id": "f67b2e8f-2a49-4937-b814-4e6d6a30cc30",
   "metadata": {},
   "source": []
  }
 ],
 "metadata": {
  "kernelspec": {
   "display_name": "Python 3 (ipykernel)",
   "language": "python",
   "name": "python3"
  },
  "language_info": {
   "codemirror_mode": {
    "name": "ipython",
    "version": 3
   },
   "file_extension": ".py",
   "mimetype": "text/x-python",
   "name": "python",
   "nbconvert_exporter": "python",
   "pygments_lexer": "ipython3",
   "version": "3.12.3"
  }
 },
 "nbformat": 4,
 "nbformat_minor": 5
}
